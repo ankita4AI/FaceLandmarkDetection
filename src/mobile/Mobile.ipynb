{
 "metadata": {
  "language_info": {
   "codemirror_mode": {
    "name": "ipython",
    "version": 3
   },
   "file_extension": ".py",
   "mimetype": "text/x-python",
   "name": "python",
   "nbconvert_exporter": "python",
   "pygments_lexer": "ipython3",
   "version": "3.8.5-final"
  },
  "orig_nbformat": 2,
  "kernelspec": {
   "name": "python3",
   "display_name": "Python 3",
   "language": "python"
  }
 },
 "nbformat": 4,
 "nbformat_minor": 2,
 "cells": [
  {
   "cell_type": "code",
   "execution_count": 1,
   "metadata": {},
   "outputs": [],
   "source": [
    "from FaceLandmarkDetection.src.quantization.helper import *"
   ]
  },
  {
   "cell_type": "code",
   "execution_count": 2,
   "metadata": {},
   "outputs": [],
   "source": [
    "random_seed = 0\n",
    "num_classes = 136\n",
    "cuda_device = torch.device(\"cuda:0\")\n",
    "cpu_device = torch.device(\"cpu:0\")\n",
    "\n",
    "model_dir = \"checkpoints\"\n",
    "model_filename = \"resnet18_FLM.pt\"\n",
    "model_filepath = os.path.join(model_dir, model_filename)\n",
    "\n",
    "quant_model_dir = \"checkpoints_quantized\"\n",
    "quant_model_filename = \"resnet18_quantized_FLM.pt\"\n",
    "quant_model_filepath = os.path.join(quant_model_dir, quant_model_filename)\n",
    "\n",
    "set_random_seeds(random_seed=random_seed)"
   ]
  },
  {
   "cell_type": "code",
   "execution_count": 3,
   "metadata": {},
   "outputs": [
    {
     "output_type": "stream",
     "name": "stdout",
     "text": [
      "1111\n"
     ]
    }
   ],
   "source": [
    "# Create an untrained model.\n",
    "model = create_model(num_classes=num_classes)\n",
    "train_dataset, val_dataset = get_data()\n",
    "train_loader = make_loader(train_dataset, 64)\n",
    "val_loader = make_loader(val_dataset, 32)"
   ]
  },
  {
   "cell_type": "code",
   "execution_count": 4,
   "metadata": {},
   "outputs": [],
   "source": [
    "model = load_model(model=model, model_filepath=model_filepath, device=cpu_device)"
   ]
  },
  {
   "cell_type": "code",
   "execution_count": 5,
   "metadata": {},
   "outputs": [],
   "source": [
    "save_torchscript_model(model=model, model_dir=\"temp\", model_filename=\"temp1\")\n",
    "ts_model = load_torchscript_model(model_filepath=\"temp/temp1\", device=cpu_device)"
   ]
  },
  {
   "source": [
    "MOBILE OPTIMIZE TS_MODEL"
   ],
   "cell_type": "markdown",
   "metadata": {}
  },
  {
   "cell_type": "code",
   "execution_count": 6,
   "metadata": {},
   "outputs": [],
   "source": [
    "mobile_model_dir = \"checkpoints_mobile\"\n",
    "mobile_model_filename = \"mobile_ts_model.pt\"\n",
    "mobile_model_filepath = os.path.join(mobile_model_dir, mobile_model_filename)"
   ]
  },
  {
   "cell_type": "code",
   "execution_count": 7,
   "metadata": {},
   "outputs": [],
   "source": [
    "import torch.utils.mobile_optimizer as mobile_optimizer\n",
    "opt_model = mobile_optimizer.optimize_for_mobile(ts_model)\n",
    "torch.jit.save(opt_model, mobile_model_filepath)"
   ]
  },
  {
   "cell_type": "code",
   "execution_count": null,
   "metadata": {},
   "outputs": [],
   "source": [
    "evaluate_model(model=opt_model, test_loader=val_loader, device=cpu_device, criterion=nn.MSELoss())"
   ]
  },
  {
   "cell_type": "code",
   "execution_count": null,
   "metadata": {},
   "outputs": [],
   "source": [
    "measure_inference_latency(model=opt_model, device=cpu_device, input_size=(32,1,224,224), num_samples=100)"
   ]
  },
  {
   "source": [
    "MOBILE OPTIMIZE QUANTIZED MODEL"
   ],
   "cell_type": "markdown",
   "metadata": {}
  },
  {
   "cell_type": "code",
   "execution_count": null,
   "metadata": {},
   "outputs": [],
   "source": [
    "mobile_model_dir = \"checkpoints_mobile\"\n",
    "mobile_model_filename = \"mobile_quantized.pt\"\n",
    "mobile_model_filepath = os.path.join(mobile_model_dir, mobile_model_filename)"
   ]
  },
  {
   "cell_type": "code",
   "execution_count": null,
   "metadata": {},
   "outputs": [],
   "source": [
    "quantized_model = load_torchscript_model(model_filepath=\"checkpoints_quantized/resnet_static_flm.pt\", device=cpu_device)\n",
    "q_opt_model = mobile_optimizer.optimize_for_mobile(quantized_model)\n",
    "torch.jit.save(q_opt_model, mobile_model_filepath)"
   ]
  },
  {
   "cell_type": "code",
   "execution_count": null,
   "metadata": {},
   "outputs": [],
   "source": [
    "evaluate_model(model=q_opt_model, test_loader=val_loader, device=cpu_device, criterion=nn.MSELoss())"
   ]
  },
  {
   "cell_type": "code",
   "execution_count": null,
   "metadata": {},
   "outputs": [],
   "source": [
    "measure_inference_latency(model=q_opt_model, device=cpu_device, input_size=(32,1,224,224), num_samples=100)"
   ]
  },
  {
   "cell_type": "code",
   "execution_count": null,
   "metadata": {},
   "outputs": [],
   "source": []
  }
 ]
}