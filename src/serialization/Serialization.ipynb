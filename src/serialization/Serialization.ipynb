{
 "metadata": {
  "language_info": {
   "codemirror_mode": {
    "name": "ipython",
    "version": 3
   },
   "file_extension": ".py",
   "mimetype": "text/x-python",
   "name": "python",
   "nbconvert_exporter": "python",
   "pygments_lexer": "ipython3",
   "version": "3.8.5-final"
  },
  "orig_nbformat": 2,
  "kernelspec": {
   "name": "python3",
   "display_name": "Python 3",
   "language": "python"
  }
 },
 "nbformat": 4,
 "nbformat_minor": 2,
 "cells": [
  {
   "cell_type": "code",
   "execution_count": 10,
   "metadata": {},
   "outputs": [],
   "source": [
    "from FaceLandmarkDetection.src.quantization.helper import *\n",
    "import torch"
   ]
  },
  {
   "cell_type": "code",
   "execution_count": 11,
   "metadata": {},
   "outputs": [],
   "source": [
    "random_seed = 0\n",
    "num_classes = 136\n",
    "cuda_device = torch.device(\"cuda:0\")\n",
    "cpu_device = torch.device(\"cpu:0\")\n",
    "\n",
    "model_dir = \"checkpoints\"\n",
    "model_filename = \"resnet18_FLM.pt\"\n",
    "model_filepath = os.path.join(model_dir, model_filename)\n",
    "set_random_seeds(random_seed=random_seed)"
   ]
  },
  {
   "cell_type": "code",
   "execution_count": 12,
   "metadata": {},
   "outputs": [
    {
     "output_type": "stream",
     "name": "stdout",
     "text": [
      "1111\n"
     ]
    }
   ],
   "source": [
    "# Create an untrained model.\n",
    "model = create_model(num_classes=num_classes)\n",
    "train_dataset, val_dataset = get_data()\n",
    "train_loader = make_loader(train_dataset, 64)\n",
    "val_loader = make_loader(val_dataset, 32)"
   ]
  },
  {
   "cell_type": "code",
   "execution_count": 13,
   "metadata": {},
   "outputs": [],
   "source": [
    "model = load_model(model=model, model_filepath=model_filepath, device=cpu_device)"
   ]
  },
  {
   "cell_type": "code",
   "execution_count": 5,
   "metadata": {},
   "outputs": [],
   "source": [
    "save_torchscript_model(model=model, model_dir=\"temp\", model_filename=\"temp1\")\n",
    "ts_model = load_torchscript_model(model_filepath=\"temp/temp1\", device=cpu_device)"
   ]
  },
  {
   "cell_type": "code",
   "execution_count": 7,
   "metadata": {},
   "outputs": [
    {
     "output_type": "execute_result",
     "data": {
      "text/plain": [
       "0.023867265229021106"
      ]
     },
     "metadata": {},
     "execution_count": 7
    }
   ],
   "source": [
    "evaluate_model(model=ts_model, test_loader=val_loader, device=cpu_device, criterion=nn.MSELoss())"
   ]
  },
  {
   "cell_type": "code",
   "execution_count": 8,
   "metadata": {},
   "outputs": [
    {
     "output_type": "execute_result",
     "data": {
      "text/plain": [
       "1.6400473976135255"
      ]
     },
     "metadata": {},
     "execution_count": 8
    }
   ],
   "source": [
    "measure_inference_latency(model=ts_model, device=cpu_device, input_size=(32,1,224,224), num_samples=100)"
   ]
  },
  {
   "source": [
    "ONNX"
   ],
   "cell_type": "markdown",
   "metadata": {}
  },
  {
   "cell_type": "code",
   "execution_count": 1,
   "metadata": {},
   "outputs": [],
   "source": [
    "import onnxruntime"
   ]
  },
  {
   "cell_type": "code",
   "execution_count": 2,
   "metadata": {},
   "outputs": [],
   "source": [
    "onnx_model_dir = \"checkpoints_onnx\"\n",
    "onnx_model_filename = \"resnet.onnx\"\n",
    "onnx_model_filepath = os.path.join(onnx_model_dir, onnx_model_filename)"
   ]
  },
  {
   "cell_type": "code",
   "execution_count": 3,
   "metadata": {},
   "outputs": [],
   "source": [
    "def evaluate_onnx_model(onnx_session, device, data_loader, criterion=None):\n",
    "    running_loss = 0\n",
    "    for inputs, labels in data_loader:\n",
    "        inputs = inputs.to(device)\n",
    "        labels = labels.to(device)\n",
    "        labels = labels.view(labels.size(0), -1).float()\n",
    "        ort_inputs = {onnx_session.get_inputs()[0].name: to_numpy(inputs)}\n",
    "        ort_outs = onnx_session.run(None, ort_inputs)\n",
    "        loss = criterion(torch.tensor(ort_outs[0]), labels).item()\n",
    "        # statistics\n",
    "        running_loss += loss * inputs.size(0)\n",
    "        \n",
    "    eval_loss = running_loss / len(data_loader.dataset)\n",
    "    return eval_loss\n",
    "        \n",
    "def measure_inference_latency_onnx(onnx_session, device, input_size=(32,1,224,224), num_samples=100):\n",
    "    start_time = time.time()\n",
    "    for _ in range(num_samples):\n",
    "        dummy_input = torch.randn(input_size, device=device)\n",
    "        ort_inputs = {ort_session.get_inputs()[0].name: to_numpy(dummy_input)}\n",
    "        ort_outs = ort_session.run(None, ort_inputs)\n",
    "    end_time = time.time()\n",
    "    elapsed_time = end_time - start_time\n",
    "    elapsed_time_ave = elapsed_time / num_samples\n",
    "    return elapsed_time_ave \n",
    "\n",
    "def to_numpy(tensor):\n",
    "    return tensor.detach().cpu().numpy() if tensor.requires_grad else tensor.cpu().numpy()"
   ]
  },
  {
   "cell_type": "code",
   "execution_count": 1,
   "metadata": {},
   "outputs": [],
   "source": [
    "dummy_input = torch.randn(32, 1, 224, 224, device='cpu')\n",
    "input_names = ['input'],   # the model's input names\n",
    "output_names = ['output'], # the model's output names\n",
    "\n",
    "# Export the model\n",
    "torch.onnx.export(model,               # model being run\n",
    "                  dummy_input,                         # model input (or a tuple for multiple inputs)\n",
    "                  onnx_model_filepath,   # where to save the model (can be a file or file-like object)\n",
    "                  export_params=True,        # store the trained parameter weights inside the model file\n",
    "                  opset_version=10,          # the ONNX version to export the model to\n",
    "                  do_constant_folding=True,  # whether to execute constant folding for optimization\n",
    "                  input_names = ['input'],   # the model's input names\n",
    "                  output_names = ['output'], # the model's output names\n",
    "                  dynamic_axes={'input' : {0 : 'batch_size'},    # variable lenght axes\n",
    "                                'output' : {0 : 'batch_size'}})"
   ]
  },
  {
   "cell_type": "code",
   "execution_count": 4,
   "metadata": {},
   "outputs": [],
   "source": [
    "ort_session = onnxruntime.InferenceSession(onnx_model_filepath)"
   ]
  },
  {
   "cell_type": "code",
   "execution_count": 8,
   "metadata": {},
   "outputs": [],
   "source": [
    "# compute ONNX Runtime output prediction\n",
    "dummy_input = torch.randn(1, 1, 224, 224, device='cpu')\n",
    "ort_inputs = {ort_session.get_inputs()[0].name: to_numpy(dummy_input)}\n",
    "ort_outs = ort_session.run(None, ort_inputs)"
   ]
  },
  {
   "cell_type": "code",
   "execution_count": 14,
   "metadata": {},
   "outputs": [
    {
     "output_type": "execute_result",
     "data": {
      "text/plain": [
       "0.024484903627150768"
      ]
     },
     "metadata": {},
     "execution_count": 14
    }
   ],
   "source": [
    "evaluate_onnx_model(onnx_session=ort_session, data_loader=val_loader, device=cpu_device, criterion=nn.MSELoss())"
   ]
  },
  {
   "cell_type": "code",
   "execution_count": 15,
   "metadata": {},
   "outputs": [
    {
     "output_type": "execute_result",
     "data": {
      "text/plain": [
       "0.2827521514892578"
      ]
     },
     "metadata": {},
     "execution_count": 15
    }
   ],
   "source": [
    "measure_inference_latency_onnx(ort_session, \"cpu\", input_size=(32,1,224,224), num_samples=100)"
   ]
  }
 ]
}